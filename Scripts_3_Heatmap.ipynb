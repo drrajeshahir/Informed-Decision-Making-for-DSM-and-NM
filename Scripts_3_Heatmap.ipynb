{
 "cells": [
  {
   "cell_type": "code",
   "execution_count": 1,
   "metadata": {},
   "outputs": [],
   "source": [
    "import pandas as pd\n",
    "import numpy as np\n",
    "%matplotlib inline"
   ]
  },
  {
   "cell_type": "code",
   "execution_count": 2,
   "metadata": {},
   "outputs": [],
   "source": [
    "from sklearn.datasets import load_iris\n",
    "from sklearn import preprocessing\n",
    "import seaborn as sns\n",
    "import matplotlib.pyplot as plt"
   ]
  },
  {
   "cell_type": "code",
   "execution_count": 90,
   "metadata": {},
   "outputs": [],
   "source": [
    "df = pd.read_excel(\"Heatmap_wd - minmax normalize.xlsx\")"
   ]
  },
  {
   "cell_type": "code",
   "execution_count": 91,
   "metadata": {},
   "outputs": [],
   "source": [
    "df = df.iloc[:, :8]"
   ]
  },
  {
   "cell_type": "code",
   "execution_count": 92,
   "metadata": {},
   "outputs": [
    {
     "data": {
      "text/html": [
       "<div>\n",
       "<style scoped>\n",
       "    .dataframe tbody tr th:only-of-type {\n",
       "        vertical-align: middle;\n",
       "    }\n",
       "\n",
       "    .dataframe tbody tr th {\n",
       "        vertical-align: top;\n",
       "    }\n",
       "\n",
       "    .dataframe thead th {\n",
       "        text-align: right;\n",
       "    }\n",
       "</style>\n",
       "<table border=\"1\" class=\"dataframe\">\n",
       "  <thead>\n",
       "    <tr style=\"text-align: right;\">\n",
       "      <th></th>\n",
       "      <th>ClusterNo</th>\n",
       "      <th>Base load</th>\n",
       "      <th>Desc usage</th>\n",
       "      <th>Morn usage</th>\n",
       "      <th>Daytime usage</th>\n",
       "      <th>Prepeak usage</th>\n",
       "      <th>Peak usage</th>\n",
       "      <th>Postpeak usage</th>\n",
       "    </tr>\n",
       "  </thead>\n",
       "  <tbody>\n",
       "    <tr>\n",
       "      <th>0</th>\n",
       "      <td>Cluster #1</td>\n",
       "      <td>1859.58</td>\n",
       "      <td>2899.63</td>\n",
       "      <td>2580.73</td>\n",
       "      <td>2453.87</td>\n",
       "      <td>2756.47</td>\n",
       "      <td>2968.61</td>\n",
       "      <td>3396.34</td>\n",
       "    </tr>\n",
       "    <tr>\n",
       "      <th>1</th>\n",
       "      <td>Cluster #2</td>\n",
       "      <td>34.08</td>\n",
       "      <td>2491.81</td>\n",
       "      <td>1896.56</td>\n",
       "      <td>2798.54</td>\n",
       "      <td>2548.32</td>\n",
       "      <td>1149.25</td>\n",
       "      <td>330.90</td>\n",
       "    </tr>\n",
       "    <tr>\n",
       "      <th>2</th>\n",
       "      <td>Cluster #3</td>\n",
       "      <td>52.91</td>\n",
       "      <td>2417.13</td>\n",
       "      <td>568.58</td>\n",
       "      <td>597.39</td>\n",
       "      <td>740.50</td>\n",
       "      <td>954.29</td>\n",
       "      <td>1141.14</td>\n",
       "    </tr>\n",
       "    <tr>\n",
       "      <th>3</th>\n",
       "      <td>Cluster #4</td>\n",
       "      <td>113.81</td>\n",
       "      <td>2251.28</td>\n",
       "      <td>1455.28</td>\n",
       "      <td>1249.83</td>\n",
       "      <td>1216.97</td>\n",
       "      <td>1768.57</td>\n",
       "      <td>2290.87</td>\n",
       "    </tr>\n",
       "    <tr>\n",
       "      <th>4</th>\n",
       "      <td>Cluster #5</td>\n",
       "      <td>13.14</td>\n",
       "      <td>2231.46</td>\n",
       "      <td>151.27</td>\n",
       "      <td>147.22</td>\n",
       "      <td>155.08</td>\n",
       "      <td>1786.35</td>\n",
       "      <td>1865.11</td>\n",
       "    </tr>\n",
       "    <tr>\n",
       "      <th>5</th>\n",
       "      <td>Cluster #6</td>\n",
       "      <td>38.47</td>\n",
       "      <td>772.64</td>\n",
       "      <td>210.06</td>\n",
       "      <td>276.54</td>\n",
       "      <td>587.19</td>\n",
       "      <td>1182.32</td>\n",
       "      <td>250.27</td>\n",
       "    </tr>\n",
       "    <tr>\n",
       "      <th>6</th>\n",
       "      <td>Cluster #7</td>\n",
       "      <td>102.94</td>\n",
       "      <td>2385.17</td>\n",
       "      <td>2246.83</td>\n",
       "      <td>2308.41</td>\n",
       "      <td>1558.45</td>\n",
       "      <td>2453.43</td>\n",
       "      <td>1736.58</td>\n",
       "    </tr>\n",
       "    <tr>\n",
       "      <th>7</th>\n",
       "      <td>Cluster #8</td>\n",
       "      <td>80.50</td>\n",
       "      <td>1254.25</td>\n",
       "      <td>1796.11</td>\n",
       "      <td>2079.88</td>\n",
       "      <td>1861.15</td>\n",
       "      <td>1671.61</td>\n",
       "      <td>1146.85</td>\n",
       "    </tr>\n",
       "    <tr>\n",
       "      <th>8</th>\n",
       "      <td>Cluster #9</td>\n",
       "      <td>46.90</td>\n",
       "      <td>2387.10</td>\n",
       "      <td>2269.54</td>\n",
       "      <td>1712.81</td>\n",
       "      <td>1543.29</td>\n",
       "      <td>2187.56</td>\n",
       "      <td>530.42</td>\n",
       "    </tr>\n",
       "    <tr>\n",
       "      <th>9</th>\n",
       "      <td>Cluster #10</td>\n",
       "      <td>145.60</td>\n",
       "      <td>1549.83</td>\n",
       "      <td>1785.28</td>\n",
       "      <td>2087.43</td>\n",
       "      <td>1986.65</td>\n",
       "      <td>1731.46</td>\n",
       "      <td>2198.18</td>\n",
       "    </tr>\n",
       "    <tr>\n",
       "      <th>10</th>\n",
       "      <td>Cluster #11</td>\n",
       "      <td>136.02</td>\n",
       "      <td>2938.46</td>\n",
       "      <td>3193.07</td>\n",
       "      <td>2465.77</td>\n",
       "      <td>1821.59</td>\n",
       "      <td>3077.23</td>\n",
       "      <td>1970.92</td>\n",
       "    </tr>\n",
       "    <tr>\n",
       "      <th>11</th>\n",
       "      <td>Cluster #12</td>\n",
       "      <td>11.89</td>\n",
       "      <td>1240.17</td>\n",
       "      <td>1082.71</td>\n",
       "      <td>763.28</td>\n",
       "      <td>486.52</td>\n",
       "      <td>1042.19</td>\n",
       "      <td>148.91</td>\n",
       "    </tr>\n",
       "  </tbody>\n",
       "</table>\n",
       "</div>"
      ],
      "text/plain": [
       "      ClusterNo  Base load  Desc usage  Morn usage  Daytime usage  \\\n",
       "0    Cluster #1    1859.58     2899.63     2580.73        2453.87   \n",
       "1    Cluster #2      34.08     2491.81     1896.56        2798.54   \n",
       "2    Cluster #3      52.91     2417.13      568.58         597.39   \n",
       "3    Cluster #4     113.81     2251.28     1455.28        1249.83   \n",
       "4    Cluster #5      13.14     2231.46      151.27         147.22   \n",
       "5    Cluster #6      38.47      772.64      210.06         276.54   \n",
       "6    Cluster #7     102.94     2385.17     2246.83        2308.41   \n",
       "7    Cluster #8      80.50     1254.25     1796.11        2079.88   \n",
       "8    Cluster #9      46.90     2387.10     2269.54        1712.81   \n",
       "9   Cluster #10     145.60     1549.83     1785.28        2087.43   \n",
       "10  Cluster #11     136.02     2938.46     3193.07        2465.77   \n",
       "11  Cluster #12      11.89     1240.17     1082.71         763.28   \n",
       "\n",
       "    Prepeak usage  Peak usage  Postpeak usage  \n",
       "0         2756.47     2968.61         3396.34  \n",
       "1         2548.32     1149.25          330.90  \n",
       "2          740.50      954.29         1141.14  \n",
       "3         1216.97     1768.57         2290.87  \n",
       "4          155.08     1786.35         1865.11  \n",
       "5          587.19     1182.32          250.27  \n",
       "6         1558.45     2453.43         1736.58  \n",
       "7         1861.15     1671.61         1146.85  \n",
       "8         1543.29     2187.56          530.42  \n",
       "9         1986.65     1731.46         2198.18  \n",
       "10        1821.59     3077.23         1970.92  \n",
       "11         486.52     1042.19          148.91  "
      ]
     },
     "execution_count": 92,
     "metadata": {},
     "output_type": "execute_result"
    }
   ],
   "source": [
    "df"
   ]
  },
  {
   "cell_type": "code",
   "execution_count": 93,
   "metadata": {},
   "outputs": [],
   "source": [
    "df = df.set_index('ClusterNo')"
   ]
  },
  {
   "cell_type": "code",
   "execution_count": 96,
   "metadata": {},
   "outputs": [],
   "source": [
    "x= np.array(df[['Base load','Desc usage','Morn usage','Daytime usage', 'Prepeak usage','Peak usage','Postpeak usage']])"
   ]
  },
  {
   "cell_type": "code",
   "execution_count": 97,
   "metadata": {},
   "outputs": [],
   "source": [
    "df1 = preprocessing.normalize(x, axis=1)"
   ]
  },
  {
   "cell_type": "code",
   "execution_count": 98,
   "metadata": {},
   "outputs": [],
   "source": [
    "df2 = pd.DataFrame(df1)"
   ]
  },
  {
   "cell_type": "code",
   "execution_count": 99,
   "metadata": {},
   "outputs": [
    {
     "data": {
      "text/html": [
       "<div>\n",
       "<style scoped>\n",
       "    .dataframe tbody tr th:only-of-type {\n",
       "        vertical-align: middle;\n",
       "    }\n",
       "\n",
       "    .dataframe tbody tr th {\n",
       "        vertical-align: top;\n",
       "    }\n",
       "\n",
       "    .dataframe thead th {\n",
       "        text-align: right;\n",
       "    }\n",
       "</style>\n",
       "<table border=\"1\" class=\"dataframe\">\n",
       "  <thead>\n",
       "    <tr style=\"text-align: right;\">\n",
       "      <th></th>\n",
       "      <th>0</th>\n",
       "      <th>1</th>\n",
       "      <th>2</th>\n",
       "      <th>3</th>\n",
       "      <th>4</th>\n",
       "      <th>5</th>\n",
       "      <th>6</th>\n",
       "    </tr>\n",
       "  </thead>\n",
       "  <tbody>\n",
       "    <tr>\n",
       "      <th>0</th>\n",
       "      <td>0.256662</td>\n",
       "      <td>0.400212</td>\n",
       "      <td>0.356197</td>\n",
       "      <td>0.338687</td>\n",
       "      <td>0.380453</td>\n",
       "      <td>0.409733</td>\n",
       "      <td>0.468769</td>\n",
       "    </tr>\n",
       "    <tr>\n",
       "      <th>1</th>\n",
       "      <td>0.006740</td>\n",
       "      <td>0.492841</td>\n",
       "      <td>0.375110</td>\n",
       "      <td>0.553507</td>\n",
       "      <td>0.504018</td>\n",
       "      <td>0.227304</td>\n",
       "      <td>0.065447</td>\n",
       "    </tr>\n",
       "    <tr>\n",
       "      <th>2</th>\n",
       "      <td>0.017362</td>\n",
       "      <td>0.793176</td>\n",
       "      <td>0.186578</td>\n",
       "      <td>0.196032</td>\n",
       "      <td>0.242994</td>\n",
       "      <td>0.313148</td>\n",
       "      <td>0.374463</td>\n",
       "    </tr>\n",
       "    <tr>\n",
       "      <th>3</th>\n",
       "      <td>0.026376</td>\n",
       "      <td>0.521750</td>\n",
       "      <td>0.337271</td>\n",
       "      <td>0.289657</td>\n",
       "      <td>0.282041</td>\n",
       "      <td>0.409878</td>\n",
       "      <td>0.530925</td>\n",
       "    </tr>\n",
       "    <tr>\n",
       "      <th>4</th>\n",
       "      <td>0.003839</td>\n",
       "      <td>0.651876</td>\n",
       "      <td>0.044190</td>\n",
       "      <td>0.043007</td>\n",
       "      <td>0.045303</td>\n",
       "      <td>0.521846</td>\n",
       "      <td>0.544854</td>\n",
       "    </tr>\n",
       "  </tbody>\n",
       "</table>\n",
       "</div>"
      ],
      "text/plain": [
       "          0         1         2         3         4         5         6\n",
       "0  0.256662  0.400212  0.356197  0.338687  0.380453  0.409733  0.468769\n",
       "1  0.006740  0.492841  0.375110  0.553507  0.504018  0.227304  0.065447\n",
       "2  0.017362  0.793176  0.186578  0.196032  0.242994  0.313148  0.374463\n",
       "3  0.026376  0.521750  0.337271  0.289657  0.282041  0.409878  0.530925\n",
       "4  0.003839  0.651876  0.044190  0.043007  0.045303  0.521846  0.544854"
      ]
     },
     "execution_count": 99,
     "metadata": {},
     "output_type": "execute_result"
    }
   ],
   "source": [
    "df2.head()"
   ]
  },
  {
   "cell_type": "code",
   "execution_count": 100,
   "metadata": {},
   "outputs": [],
   "source": [
    "df2.to_csv(\"Heatmap_wd_normalize.csv\")"
   ]
  },
  {
   "cell_type": "code",
   "execution_count": 122,
   "metadata": {},
   "outputs": [
    {
     "data": {
      "text/html": [
       "<div>\n",
       "<style scoped>\n",
       "    .dataframe tbody tr th:only-of-type {\n",
       "        vertical-align: middle;\n",
       "    }\n",
       "\n",
       "    .dataframe tbody tr th {\n",
       "        vertical-align: top;\n",
       "    }\n",
       "\n",
       "    .dataframe thead th {\n",
       "        text-align: right;\n",
       "    }\n",
       "</style>\n",
       "<table border=\"1\" class=\"dataframe\">\n",
       "  <thead>\n",
       "    <tr style=\"text-align: right;\">\n",
       "      <th></th>\n",
       "      <th>ClusterNo</th>\n",
       "      <th>Base load</th>\n",
       "      <th>Desc usage</th>\n",
       "      <th>Morn usage</th>\n",
       "      <th>Daytime usage</th>\n",
       "      <th>Prepeak usage</th>\n",
       "      <th>Peak usage</th>\n",
       "      <th>Postpeak usage</th>\n",
       "    </tr>\n",
       "  </thead>\n",
       "  <tbody>\n",
       "    <tr>\n",
       "      <th>0</th>\n",
       "      <td>Cluster #1</td>\n",
       "      <td>0.256662</td>\n",
       "      <td>0.201547</td>\n",
       "      <td>0.356197</td>\n",
       "      <td>0.338687</td>\n",
       "      <td>0.380453</td>\n",
       "      <td>0.409733</td>\n",
       "      <td>0.468769</td>\n",
       "    </tr>\n",
       "    <tr>\n",
       "      <th>1</th>\n",
       "      <td>Cluster #2</td>\n",
       "      <td>0.006740</td>\n",
       "      <td>0.652549</td>\n",
       "      <td>0.375110</td>\n",
       "      <td>0.553507</td>\n",
       "      <td>0.504018</td>\n",
       "      <td>0.227304</td>\n",
       "      <td>0.065447</td>\n",
       "    </tr>\n",
       "    <tr>\n",
       "      <th>2</th>\n",
       "      <td>Cluster #3</td>\n",
       "      <td>0.017362</td>\n",
       "      <td>0.256584</td>\n",
       "      <td>0.186578</td>\n",
       "      <td>0.196032</td>\n",
       "      <td>0.242994</td>\n",
       "      <td>0.313148</td>\n",
       "      <td>0.593658</td>\n",
       "    </tr>\n",
       "    <tr>\n",
       "      <th>3</th>\n",
       "      <td>Cluster #4</td>\n",
       "      <td>0.026376</td>\n",
       "      <td>0.521750</td>\n",
       "      <td>0.337271</td>\n",
       "      <td>0.289657</td>\n",
       "      <td>0.282041</td>\n",
       "      <td>0.409878</td>\n",
       "      <td>0.530925</td>\n",
       "    </tr>\n",
       "    <tr>\n",
       "      <th>4</th>\n",
       "      <td>Cluster #5</td>\n",
       "      <td>0.003839</td>\n",
       "      <td>0.601255</td>\n",
       "      <td>0.044190</td>\n",
       "      <td>0.043007</td>\n",
       "      <td>0.045303</td>\n",
       "      <td>0.521846</td>\n",
       "      <td>0.544854</td>\n",
       "    </tr>\n",
       "  </tbody>\n",
       "</table>\n",
       "</div>"
      ],
      "text/plain": [
       "    ClusterNo  Base load  Desc usage  Morn usage  Daytime usage  \\\n",
       "0  Cluster #1   0.256662    0.201547    0.356197       0.338687   \n",
       "1  Cluster #2   0.006740    0.652549    0.375110       0.553507   \n",
       "2  Cluster #3   0.017362    0.256584    0.186578       0.196032   \n",
       "3  Cluster #4   0.026376    0.521750    0.337271       0.289657   \n",
       "4  Cluster #5   0.003839    0.601255    0.044190       0.043007   \n",
       "\n",
       "   Prepeak usage  Peak usage  Postpeak usage  \n",
       "0       0.380453    0.409733        0.468769  \n",
       "1       0.504018    0.227304        0.065447  \n",
       "2       0.242994    0.313148        0.593658  \n",
       "3       0.282041    0.409878        0.530925  \n",
       "4       0.045303    0.521846        0.544854  "
      ]
     },
     "execution_count": 122,
     "metadata": {},
     "output_type": "execute_result"
    }
   ],
   "source": [
    "df3 = pd.read_csv(\"Heatmap_wd_normalize.csv\")\n",
    "df3.head()"
   ]
  },
  {
   "cell_type": "code",
   "execution_count": 123,
   "metadata": {},
   "outputs": [],
   "source": [
    "df3 = df3.set_index('ClusterNo')"
   ]
  },
  {
   "cell_type": "code",
   "execution_count": 132,
   "metadata": {},
   "outputs": [],
   "source": [
    "font = {'family' : 'times new roman',\n",
    "        'weight' : 'bold',\n",
    "        'size'   : 26}\n",
    "plt.rc('font', **font)"
   ]
  },
  {
   "cell_type": "code",
   "execution_count": 133,
   "metadata": {},
   "outputs": [
    {
     "data": {
      "text/plain": [
       "Text(75.0, 0.5, 'ClusterNo')"
      ]
     },
     "execution_count": 133,
     "metadata": {},
     "output_type": "execute_result"
    },
    {
     "data": {
      "image/png": "[encoded data removed]",
      "text/plain": [
       "<Figure size 864x720 with 2 Axes>"
      ]
     },
     "metadata": {
      "needs_background": "light"
     },
     "output_type": "display_data"
    }
   ],
   "source": [
    "fig = plt.figure(figsize=(12,10))\n",
    "disp = sns.heatmap(df3, cmap='BuPu', linewidths=3.5, vmin=0)\n",
    "disp.set_ylabel(disp.get_ylabel(), fontdict={'weight': 'bold'})"
   ]
  },
  {
   "cell_type": "code",
   "execution_count": 134,
   "metadata": {},
   "outputs": [],
   "source": [
    "hm=disp.get_figure()"
   ]
  },
  {
   "cell_type": "code",
   "execution_count": 135,
   "metadata": {},
   "outputs": [],
   "source": [
    "hm.savefig(\"heatmap_wd.pdf\", dpi = 300, bbox_inches = 'tight')"
   ]
  },
  {
   "cell_type": "code",
   "execution_count": 116,
   "metadata": {},
   "outputs": [],
   "source": [
    "disp.figure.savefig(\"output.png\")"
   ]
  },
  {
   "cell_type": "code",
   "execution_count": null,
   "metadata": {},
   "outputs": [],
   "source": []
  }
 ],
 "metadata": {
  "kernelspec": {
   "display_name": "Python 3 (ipykernel)",
   "language": "python",
   "name": "python3"
  },
  "language_info": {
   "codemirror_mode": {
    "name": "ipython",
    "version": 3
   },
   "file_extension": ".py",
   "mimetype": "text/x-python",
   "name": "python",
   "nbconvert_exporter": "python",
   "pygments_lexer": "ipython3",
   "version": "3.9.12"
  }
 },
 "nbformat": 4,
 "nbformat_minor": 4
}
